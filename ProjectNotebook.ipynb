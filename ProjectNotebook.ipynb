{
 "cells": [
  {
   "cell_type": "markdown",
   "metadata": {},
   "source": [
    "## Project Description\n",
    "\n",
    "This program lets a user pick a desired topic from the menu below by pressing numbers 1-4\n",
    "    1. Password Generation\n",
    "    2. Encrypt a message\n",
    "    3. Decrypt a secret message\n",
    "    4. Quit program \n",
    "    \n",
    "For topic 1, **password generation**, the program will first prompt user to input a desired length and then a desired amount of passwords. From a given string of characters, it randomly chooses these characters to create the password. The program will print out the desired length and amount of passwords the user wants. This portion of the program uses the function called password_func(length, amount), where the user input is passed through this function.\n",
    "\n",
    "For topic 2, **encrypt a message**, the program will prompt user to input a desired message they would like to encrypt. After given the encypted message, the user will have the option to either see their encrypted message decrypted or return back to the topic menu. This portion of the program uses the function encoded_program(input_message) and decoded_program(input_secret) depending if the user would like to decrypt their encrypted message.\n",
    "\n",
    "For topic 3, **decrypt a secret message**, the program will prompt user to copy and paste a secret encypted message and after, the decoded message will appear. If the message was copied and pasted incorrectly, the program will prompt user again to enter it correctly. This portion of the program uses the function decoded_program(input_secret) to decode the message.  \n",
    "\n",
    "For topic 4, **quit program**, it will ask if user really wants to quit, then the program will prompt user to press q to quit. This portion of the program uses the function quit() to end the program."
   ]
  },
  {
   "cell_type": "markdown",
   "metadata": {},
   "source": [
    "I have uploaded my project code to Github.\n",
    "You can access it here : https://github.com/farrah0228/My_Final_Project/tree/farrah0228-patch-1"
   ]
  },
  {
   "cell_type": "code",
   "execution_count": 3,
   "metadata": {},
   "outputs": [],
   "source": [
    "from my_module.functions import topic_generator"
   ]
  },
  {
   "cell_type": "code",
   "execution_count": null,
   "metadata": {
    "scrolled": false
   },
   "outputs": [
    {
     "name": "stdout",
     "output_type": "stream",
     "text": [
      "Choose a topic from this menu: \n",
      "Press 1 to generate a password \n",
      "Press 2 to encrypt a message \n",
      "Press 3 to decrpyt a secret message \n",
      "Press 4 to quit program\n",
      "1\n",
      "How many characters long would you like your password to be? e\n",
      "Invalid number. Please input a number for a desired pathword length.\n",
      "How many characters long would you like your password to be? 4\n",
      "How many different password options would you like? 5\n",
      "Your password is: hWUk\n",
      "Your password is: X8wA\n",
      "Your password is: *QyO\n",
      "Your password is: !L$R\n",
      "Your password is: dNbc\n"
     ]
    }
   ],
   "source": [
    "topic_generator()"
   ]
  },
  {
   "cell_type": "code",
   "execution_count": null,
   "metadata": {},
   "outputs": [],
   "source": []
  }
 ],
 "metadata": {
  "kernelspec": {
   "display_name": "Python 3",
   "language": "python",
   "name": "python3"
  },
  "language_info": {
   "codemirror_mode": {
    "name": "ipython",
    "version": 3
   },
   "file_extension": ".py",
   "mimetype": "text/x-python",
   "name": "python",
   "nbconvert_exporter": "python",
   "pygments_lexer": "ipython3",
   "version": "3.7.0"
  }
 },
 "nbformat": 4,
 "nbformat_minor": 2
}
