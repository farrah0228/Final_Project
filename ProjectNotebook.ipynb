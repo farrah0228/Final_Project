{
 "cells": [
  {
   "cell_type": "markdown",
   "metadata": {},
   "source": [
    "## Project Description\n",
    "\n",
    "This program lets a user pick a desired topic from the menu below by pressing numbers 1-4\n",
    "    1. Password Generation\n",
    "    2. Encrypt a message\n",
    "    3. Decrypt a seccret message\n",
    "    4. Quit program \n",
    "For topic 1, **password generation**, the program will first prompt user to input a desired length and then desired amount of passwords. The program will print out the desired length and amount of passwords user wants.\n",
    "\n",
    "For topic 2, **encrypt a message**, the program will prompt user to input a desired message they would like to encrypt. Then, the user will have the option to either see their encrypted message decrypted or return back to the topic menu.\n",
    "\n",
    "For topic 3, **decrypt a secret message**, the program will prompt user to copy and paste a secret message and the decoded message will appear \n",
    "\n",
    "For topic 4, **quit program**, it will ask if user really wants to quit, then the program will prompt user to press q to quit."
    "I have uploaded my project code to Github."
    "You can access it here : https://github.com/farrah0228/My_Final_Project/tree/farrah0228-patch-1"
   ]
  },
  {
   "cell_type": "code",
   "execution_count": null,
   "metadata": {},
   "outputs": [],
   "source": [
    "from my_module.functions import topic_generator"
   ]
  },
  {
   "cell_type": "code",
   "execution_count": null,
   "metadata": {},
   "outputs": [],
   "source": [
    "topic_generator()"
   ]
  },
  {
   "cell_type": "code",
   "execution_count": null,
   "metadata": {},
   "outputs": [],
   "source": []
  },
  {
   "cell_type": "code",
   "execution_count": null,
   "metadata": {},
   "outputs": [],
   "source": [
    "\n"
   ]
  }
 ],
 "metadata": {
  "kernelspec": {
   "display_name": "Python 3",
   "language": "python",
   "name": "python3"
  },
  "language_info": {
   "codemirror_mode": {
    "name": "ipython",
    "version": 3
   },
   "file_extension": ".py",
   "mimetype": "text/x-python",
   "name": "python",
   "nbconvert_exporter": "python",
   "pygments_lexer": "ipython3",
   "version": "3.7.0"
  }
 },
 "nbformat": 4,
 "nbformat_minor": 2
}
